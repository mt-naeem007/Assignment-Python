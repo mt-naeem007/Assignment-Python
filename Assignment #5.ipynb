{
 "cells": [
  {
   "cell_type": "code",
   "execution_count": 1,
   "metadata": {},
   "outputs": [
    {
     "name": "stdout",
     "output_type": "stream",
     "text": [
      " Enter a number  : 4\n",
      "24\n"
     ]
    }
   ],
   "source": [
    "def factorial(a):\n",
    "    if a == 0:\n",
    "        return 1\n",
    "    else:\n",
    "        return a * factorial(a-1)\n",
    "a=int(input(\" Enter a number  : \"))\n",
    "print(factorial(a))"
   ]
  },
  {
   "cell_type": "code",
   "execution_count": 2,
   "metadata": {},
   "outputs": [
    {
     "name": "stdout",
     "output_type": "stream",
     "text": [
      "Please enter here: Qwerty\n",
      "Lower case is :  5\n",
      "Upper case is :  1\n"
     ]
    }
   ],
   "source": [
    "a = input(\"Please enter here: \")\n",
    "def stringtest(s):\n",
    "  e = {\"LOWER_CASE\" : 0, \"UPPER_CASE\" : 0}\n",
    "  for c in s:\n",
    "    if c.islower():\n",
    "      e[\"LOWER_CASE\"] += 1\n",
    "    elif c.isupper():\n",
    "      e[\"UPPER_CASE\"] += 1\n",
    "    else: \n",
    "      pass\n",
    "\n",
    "  print (\"Lower case is : \", e[\"LOWER_CASE\"])\n",
    "  print (\"Upper case is : \", e[\"UPPER_CASE\"])\n",
    "stringtest(a)"
   ]
  },
  {
   "cell_type": "code",
   "execution_count": 4,
   "metadata": {},
   "outputs": [
    {
     "name": "stdout",
     "output_type": "stream",
     "text": [
      "22 6 "
     ]
    }
   ],
   "source": [
    "\n",
    "lists = [1, 22, 6, 5, 3, 9] \n",
    "  \n",
    "for num in lists: \n",
    "      \n",
    "    if num % 2 == 0: \n",
    "       print(num, end = \" \")"
   ]
  },
  {
   "cell_type": "code",
   "execution_count": 5,
   "metadata": {},
   "outputs": [
    {
     "name": "stdout",
     "output_type": "stream",
     "text": [
      "True\n"
     ]
    }
   ],
   "source": [
    "def isPalindrome(string):\n",
    "\tleft_pos = 0\n",
    "\tright_pos = len(string) - 1\n",
    "\t\n",
    "\twhile right_pos >= left_pos:\n",
    "\t\tif not string[left_pos] == string[right_pos]:\n",
    "\t\t\treturn False\n",
    "\t\tleft_pos += 1\n",
    "\t\tright_pos -= 1\n",
    "\treturn True\n",
    "print(isPalindrome('madam')) \n"
   ]
  },
  {
   "cell_type": "code",
   "execution_count": 6,
   "metadata": {},
   "outputs": [
    {
     "name": "stdout",
     "output_type": "stream",
     "text": [
      "True\n"
     ]
    }
   ],
   "source": [
    "def test_prime(a):\n",
    "    if (a==1):\n",
    "        return False\n",
    "    elif (a==2):\n",
    "        return True;\n",
    "    else:\n",
    "        for x in range(2,a):\n",
    "            if(a % x==0):\n",
    "                return False\n",
    "        return True             \n",
    "print(test_prime(5))"
   ]
  },
  {
   "cell_type": "code",
   "execution_count": 7,
   "metadata": {},
   "outputs": [
    {
     "name": "stdout",
     "output_type": "stream",
     "text": [
      "following items are bought by customer from market \n",
      "cloths : shirts,pants\n",
      "vegetable : onion,potato,garlic\n",
      "fruits : apple,mango\n",
      "assessories : charger,cable_wire,mobile_battery\n"
     ]
    }
   ],
   "source": [
    "def shopping_item(**a):\n",
    "    print(\"following items are bought by customer from market \")\n",
    "\n",
    "       \n",
    "    for key,value in a.items() :\n",
    "        print(key +\" : \"+ value)\n",
    "    \n",
    "\n",
    "shopping_item(cloths=\"shirts,pants\",vegetable=\"onion,potato,garlic\",fruits=\"apple,mango\",assessories=\"charger,cable_wire,mobile_battery\")"
   ]
  }
 ],
 "metadata": {
  "kernelspec": {
   "display_name": "Python 3",
   "language": "python",
   "name": "python3"
  },
  "language_info": {
   "codemirror_mode": {
    "name": "ipython",
    "version": 3
   },
   "file_extension": ".py",
   "mimetype": "text/x-python",
   "name": "python",
   "nbconvert_exporter": "python",
   "pygments_lexer": "ipython3",
   "version": "3.7.4"
  }
 },
 "nbformat": 4,
 "nbformat_minor": 2
}
