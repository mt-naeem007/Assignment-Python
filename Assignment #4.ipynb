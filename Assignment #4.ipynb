{
 "cells": [
  {
   "cell_type": "code",
   "execution_count": 4,
   "metadata": {},
   "outputs": [
    {
     "name": "stdout",
     "output_type": "stream",
     "text": [
      "First name: M Ali\n",
      "last name: Rehman\n",
      "age: 18\n",
      "city: Karachi\n",
      "qualification: High Academic Level\n",
      "{'first_name': 'M ALI', 'last_name': 'REHMAN', 'age': '18', 'city': 'KARACHI'}\n"
     ]
    }
   ],
   "source": [
    "person_info = {\n",
    "        \n",
    "        \"first_name\" : \"M ALI\"  ,\n",
    "        \"last_name\"  : \"REHMAN\",\n",
    "        \"age\" : \"18\",\n",
    "        \"city\" : \"KARACHI\"\n",
    "    }    \n",
    "person_info [\"qualification\"] = \"secondary level\"\n",
    "\n",
    "person_info.update({\"qualification\": \"high academic level\"})\n",
    "\n",
    "print(\"First name: \"+ person_info[\"first_name\"].title())\n",
    "print(\"last name: \"+ person_info[\"last_name\"].title())\n",
    "print(\"age: \"+ person_info[\"age\"].title())\n",
    "print(\"city: \"+ person_info[\"city\"].title())\n",
    "print(\"qualification: \"+ person_info[\"qualification\"].title())  \n",
    "del person_info[\"qualification\"] \n",
    "print ( str(person_info)) \n"
   ]
  },
  {
   "cell_type": "code",
   "execution_count": 5,
   "metadata": {},
   "outputs": [
    {
     "name": "stdout",
     "output_type": "stream",
     "text": [
      "[{'city_name': 'karachi', 'country': 'pakistan', 'population': '21.2 million (2019)', 'fact': ' it is best known for being the business hub of Pakistan '}, {'city_name': 'lahore', 'country': 'pakistan', 'population': '11.13 million (2017)', 'fact': '  it is best known for its rich culture and lively atmosphere.'}, {'city_name': 'peshawar', 'country': 'pakistan', 'population': '1.97 million (2017)', 'fact': 'it is best known for its food and tourism'}]\n"
     ]
    }
   ],
   "source": [
    "cities = {\n",
    "        \n",
    "        \"karachi\" : [] ,\n",
    "        \"lahore\"  : [ ],\n",
    "        \"peshawar\" : []\n",
    "    }\n",
    "information_about_each_city = [\n",
    "    {\n",
    "        \n",
    "        \"city_name\" : \"karachi\",\n",
    "        \"country\"  : \"pakistan\",\n",
    "        \"population\" : \"21.2 million (2019)\",\n",
    "        \"fact\" : \" it is best known for being the business hub of Pakistan \"\n",
    "\n",
    "},\n",
    "    {\n",
    "         \"city_name\" : \"lahore\",\n",
    "        \"country\"  : \"pakistan\",\n",
    "        \"population\" : \"11.13 million (2017)\",\n",
    "        \"fact\" : \"  it is best known for its rich culture and lively atmosphere.\"\n",
    "    },\n",
    "    {\n",
    "         \"city_name\" : \"peshawar\",\n",
    "        \"country\"  : \"pakistan\",\n",
    "        \"population\" : \"1.97 million (2017)\",\n",
    "        \"fact\" : \"it is best known for its food and tourism\"\n",
    "   \n",
    "\n",
    "}\n",
    "]\n",
    "print(information_about_each_city)"
   ]
  },
  {
   "cell_type": "code",
   "execution_count": 6,
   "metadata": {},
   "outputs": [
    {
     "name": "stdout",
     "output_type": "stream",
     "text": [
      "please enter your age ?\n",
      " Enter 's' to stop 4\n",
      "  Your ticket is $10.\n",
      "please enter your age ?\n",
      " Enter 's' to stop s\n"
     ]
    }
   ],
   "source": [
    "a = \"please enter your age ?\"\n",
    "a += \"\\n Enter 's' to stop \"\n",
    "\n",
    "while True:\n",
    "    age = input(a)\n",
    "    if age == 's':\n",
    "        break\n",
    "    age = int(age)\n",
    "\n",
    "    if age < 3:\n",
    "        print(\"  You get in free!\")\n",
    "    elif age >= 3 and age < 13 :\n",
    "         print(\"  Your ticket is $10.\")\n",
    "    elif age > 12:\n",
    "         print(\"  Your ticket is $15.\")"
   ]
  },
  {
   "cell_type": "code",
   "execution_count": 7,
   "metadata": {},
   "outputs": [
    {
     "name": "stdout",
     "output_type": "stream",
     "text": [
      "  One of my favorite books is Alice in Wonderland\n"
     ]
    }
   ],
   "source": [
    "def favorite_book(title):\n",
    "  \n",
    "    print( \"  One of my favorite books is\" + title )\n",
    "\n",
    "favorite_book(' Alice in Wonderland')"
   ]
  },
  {
   "cell_type": "code",
   "execution_count": 3,
   "metadata": {},
   "outputs": [
    {
     "name": "stdout",
     "output_type": "stream",
     "text": [
      "Guess a number between 1 and 30. You have 3 rounds to try and guess correctly.\n",
      "Enter an integer: 15\n",
      "Try Lower\n",
      "Enter an integer: 10\n",
      "Try Lower\n",
      "Enter an integer: 5\n",
      "You won!!!\n"
     ]
    }
   ],
   "source": [
    "import random\n",
    "\n",
    "def number_guessing_game(low, high, rounds):\n",
    "    print(\"Guess a number between {low} and {high}. You have {rounds} rounds to try and guess correctly.\".format(low=low, high=high, rounds=rounds))\n",
    "    number = random.randint(low, high)\n",
    "\n",
    "    for _ in range(rounds):\n",
    "        guess = input(\"Enter an integer: \")\n",
    "\n",
    "        try:\n",
    "            integer = int(guess)\n",
    "            if integer == number:\n",
    "                print('You won!!!')\n",
    "                return\n",
    "            elif integer < number:\n",
    "                print('Try Higher')\n",
    "            elif integer > number:\n",
    "                print('Try Lower')\n",
    "\n",
    "        except ValueError:\n",
    "            print(\"You must enter a valid integer.\")\n",
    "\n",
    "    print(\"You didn't guess correctly in {rounds} rounds. You lost.\".format(rounds=rounds))\n",
    "\n",
    "number_guessing_game(1, 30, 3)"
   ]
  }
 ],
 "metadata": {
  "kernelspec": {
   "display_name": "Python 3",
   "language": "python",
   "name": "python3"
  },
  "language_info": {
   "codemirror_mode": {
    "name": "ipython",
    "version": 3
   },
   "file_extension": ".py",
   "mimetype": "text/x-python",
   "name": "python",
   "nbconvert_exporter": "python",
   "pygments_lexer": "ipython3",
   "version": "3.7.4"
  }
 },
 "nbformat": 4,
 "nbformat_minor": 2
}
