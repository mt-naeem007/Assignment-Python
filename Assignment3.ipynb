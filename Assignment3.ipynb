{
 "cells": [
  {
   "cell_type": "code",
   "execution_count": 3,
   "metadata": {},
   "outputs": [
    {
     "name": "stdout",
     "output_type": "stream",
     "text": [
      "enter first  no 11\n",
      "enter second no 2\n",
      "enter operator ^\n",
      "121.0 answer\n"
     ]
    }
   ],
   "source": [
    "value = float(input('enter first  no ' ))\n",
    "value2 = float(input('enter second no ' ))\n",
    "operator = input('enter operator ' )\n",
    " \n",
    "if operator == '+' :\n",
    "    val = value + value2\n",
    "    print(val, 'answer')\n",
    "     \n",
    "elif operator == '-' :\n",
    "    val = value - value2\n",
    "    print(val, 'answer')\n",
    "    \n",
    "elif operator == '*' :\n",
    "    val = value * value2\n",
    "    print(val, 'answer') \n",
    "    \n",
    "elif operator == '/' :\n",
    "    val = value / value2\n",
    "    print(val, 'answer')\n",
    "\n",
    "elif operator == '^' :\n",
    "    val = value ** value2\n",
    "    print(val, 'answer')\n",
    "\n",
    "else:\n",
    "        print('enter correct operator')"
   ]
  },
  {
   "cell_type": "code",
   "execution_count": 4,
   "metadata": {},
   "outputs": [
    {
     "name": "stdout",
     "output_type": "stream",
     "text": [
      "Check if any numeric value exists in list  using for loop  \n",
      "not Exists\n",
      "Element Exists\n"
     ]
    }
   ],
   "source": [
    "list = [  \" ali \", 4 , \"rehan\" , \"rohan\"] \n",
    "  \n",
    "print(\"Check if any numeric value exists in list  using for loop  \") \n",
    "  \n",
    "for i in list : \n",
    "    if(i == 4) : \n",
    "        print (\"Element Exists\") \n",
    "        break \n",
    "    else :\n",
    "        print(\"not Exists\")"
   ]
  },
  {
   "cell_type": "code",
   "execution_count": 7,
   "metadata": {},
   "outputs": [
    {
     "name": "stdout",
     "output_type": "stream",
     "text": [
      "{'Name': 'Naeem', 'Roll_no': '102', 'Address': 'Karachi', 'Language': 'English'}\n"
     ]
    }
   ],
   "source": [
    "student_data = {\n",
    "    \"Name\" : \"Naeem\",\n",
    "    \"Roll_no\" : \"102\",\n",
    "    \"Address\" : \"Karachi\"\n",
    "}\n",
    "student_data [\"Language\"]  =  \"English\"\n",
    "print(student_data )"
   ]
  },
  {
   "cell_type": "code",
   "execution_count": 8,
   "metadata": {},
   "outputs": [
    {
     "name": "stdout",
     "output_type": "stream",
     "text": [
      "293\n"
     ]
    }
   ],
   "source": [
    "my_dictonary = {'data1':100,'data2':-54,'data3':247}\n",
    "print(sum(my_dictonary.values()))"
   ]
  },
  {
   "cell_type": "code",
   "execution_count": 9,
   "metadata": {},
   "outputs": [
    {
     "name": "stdout",
     "output_type": "stream",
     "text": [
      "duplicate_values :  [2, 4]\n"
     ]
    }
   ],
   "source": [
    "list = [ 1,2,3,4,2,5,6,7,4,8,9]\n",
    "duplicate_value = []\n",
    "unique_value = {}\n",
    "for x in list:\n",
    "   if x not in unique_value:\n",
    "      unique_value[x] = 1\n",
    "   else:\n",
    "      if unique_value[x] == 1:\n",
    "         duplicate_value.append(x)\n",
    "      unique_value[x] += 1\n",
    "print(\"duplicate_values : \" ,duplicate_value)"
   ]
  },
  {
   "cell_type": "code",
   "execution_count": 10,
   "metadata": {},
   "outputs": [
    {
     "name": "stdout",
     "output_type": "stream",
     "text": [
      "Key is present in the dictionary\n"
     ]
    }
   ],
   "source": [
    "dictonary = {1: \"ali\", 2: \"raza\", 3: \"farooq\", 4: \"anas\"}\n",
    "def is_key_present(x):\n",
    " if x in dictonary:\n",
    "      print('Key is present in the dictionary')\n",
    " else:\n",
    "      print('Key is not present in the dictionary')\n",
    "is_key_present(2)\n"
   ]
  },
  {
   "cell_type": "code",
   "execution_count": null,
   "metadata": {},
   "outputs": [],
   "source": []
  }
 ],
 "metadata": {
  "kernelspec": {
   "display_name": "Python 3",
   "language": "python",
   "name": "python3"
  },
  "language_info": {
   "codemirror_mode": {
    "name": "ipython",
    "version": 3
   },
   "file_extension": ".py",
   "mimetype": "text/x-python",
   "name": "python",
   "nbconvert_exporter": "python",
   "pygments_lexer": "ipython3",
   "version": "3.7.4"
  }
 },
 "nbformat": 4,
 "nbformat_minor": 2
}
